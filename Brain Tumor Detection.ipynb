{
 "cells": [
  {
   "cell_type": "code",
   "execution_count": 31,
   "metadata": {},
   "outputs": [],
   "source": [
    "import numpy as np \n",
    "import torch\n",
    "from torch.utils.data import Dataset,DataLoader,ConcatDataset\n",
    "import glob\n",
    "import matplotlib.pyplot as plt\n",
    "from sklearn.metrics import confusion_matrix, accuracy_score\n",
    "import cv2\n",
    "import random\n",
    "import sys\n",
    "import seaborn as sns\n",
    "from sklearn.utils import shuffle"
   ]
  },
  {
   "cell_type": "code",
   "execution_count": 2,
   "metadata": {},
   "outputs": [],
   "source": [
    "class Dataset(object):\n",
    "    def __getitem__(self,index):\n",
    "        raise NotImplementedError\n",
    "    \n",
    "    def __len__(self): \n",
    "        raise NotImplementedError\n",
    "    \n",
    "    def __add__(self,other):\n",
    "        return ConcatDataset([self,other]) "
   ]
  },
  {
   "cell_type": "code",
   "execution_count": 37,
   "metadata": {},
   "outputs": [],
   "source": [
    "class MRI(Dataset):\n",
    "    def __init__(self):\n",
    "        tumor = []\n",
    "        no_tumor = []\n",
    "        path = './yes/*.jpg'\n",
    "        for f in glob.iglob(path):\n",
    "            img = cv2.imread(f)\n",
    "            img = cv2.resize(img,(128,128))\n",
    "            b, g, r = cv2.split(img)\n",
    "            img = cv2.merge([r,g,b])\n",
    "            img = img.reshape((img.shape[2], img.shape[0], img.shape[1])) \n",
    "            tumor.append(img)\n",
    "        \n",
    "        path = './no/*.jpg'\n",
    "        for f in glob.iglob(path):\n",
    "            img = cv2.imread(f)\n",
    "            img = cv2.resize(img,(128,128))\n",
    "            b, g, r = cv2.split(img)\n",
    "            img = cv2.merge([r,g,b])\n",
    "            img = img.reshape((img.shape[2], img.shape[0], img.shape[1]))\n",
    "            no_tumor.append(img)\n",
    "    \n",
    "        #Images\n",
    "        tumor = np.array(tumor, dtype = np.float32)\n",
    "        no_tumor = np.array(no_tumor, dtype=np.float32)\n",
    "    \n",
    "        #Labels\n",
    "        tumor_labels = np.ones(tumor.shape[0], dtype=np.float32) \n",
    "        no_tumor_labels = np.zeros(no_tumor.shape[0], dtype=np.float32) \n",
    "    \n",
    "        #Concatenates\n",
    "        self.X= np.concatenate((tumor, no_tumor), axis = 0)\n",
    "        self.y = np.concatenate((tumor_labels, no_tumor_labels))\n",
    "        \n",
    "        self.X, self.y = shuffle(self.X,self.y)\n",
    "\n",
    "       \n",
    "    def __getitem__(self,index):\n",
    "        sample = {'image': self.X[index] , 'label':self.y[index]}\n",
    "        return sample\n",
    "    \n",
    "    def __len__(self): \n",
    "        return self.X.shape[0] \n",
    "    \n",
    "    def normalize(self):\n",
    "        self.images = self.X/255.0"
   ]
  },
  {
   "cell_type": "code",
   "execution_count": 4,
   "metadata": {},
   "outputs": [],
   "source": [
    "import torch.nn as nn\n",
    "import torch.nn.functional as F\n",
    "\n",
    "class CNN(nn.Module):\n",
    "    def __init__(self):\n",
    "        super(CNN, self).__init__()\n",
    "        self.cnn_model = nn.Sequential(\n",
    "        nn.Conv2d(in_channels=3, out_channels=6, kernel_size=5),\n",
    "        nn.Tanh(),\n",
    "        nn.AvgPool2d(kernel_size=2, stride=5),\n",
    "        nn.Conv2d(in_channels =6 ,out_channels=16, kernel_size=5),\n",
    "        nn.Tanh(),\n",
    "        nn.AvgPool2d(kernel_size=2, stride=5)\n",
    "        )\n",
    "        \n",
    "        self.fc_model = nn.Sequential(\n",
    "        nn.Linear(in_features=256, out_features=120),\n",
    "        nn.Tanh(),\n",
    "        nn.Linear(in_features=120, out_features=84),\n",
    "        nn.Tanh(),\n",
    "        nn.Linear(in_features=84, out_features=1)\n",
    "        )\n",
    "    \n",
    "    def forward(self, x):\n",
    "        x = self.cnn_model(x)\n",
    "        x = x.view(x.size(0), -1)\n",
    "        x = self.fc_model(x)\n",
    "        x = F.sigmoid(x)\n",
    "        \n",
    "        return x"
   ]
  },
  {
   "cell_type": "code",
   "execution_count": 5,
   "metadata": {},
   "outputs": [],
   "source": [
    "mri_dataset = MRI()\n",
    "mri_dataset.normalize()\n",
    "model = CNN()"
   ]
  },
  {
   "cell_type": "code",
   "execution_count": 6,
   "metadata": {},
   "outputs": [
    {
     "data": {
      "text/plain": [
       "CNN(\n",
       "  (cnn_model): Sequential(\n",
       "    (0): Conv2d(3, 6, kernel_size=(5, 5), stride=(1, 1))\n",
       "    (1): Tanh()\n",
       "    (2): AvgPool2d(kernel_size=2, stride=5, padding=0)\n",
       "    (3): Conv2d(6, 16, kernel_size=(5, 5), stride=(1, 1))\n",
       "    (4): Tanh()\n",
       "    (5): AvgPool2d(kernel_size=2, stride=5, padding=0)\n",
       "  )\n",
       "  (fc_model): Sequential(\n",
       "    (0): Linear(in_features=256, out_features=120, bias=True)\n",
       "    (1): Tanh()\n",
       "    (2): Linear(in_features=120, out_features=84, bias=True)\n",
       "    (3): Tanh()\n",
       "    (4): Linear(in_features=84, out_features=1, bias=True)\n",
       "  )\n",
       ")"
      ]
     },
     "execution_count": 6,
     "metadata": {},
     "output_type": "execute_result"
    }
   ],
   "source": [
    "device = torch.device('cpu')\n",
    "eta = 0.0001\n",
    "EPOCH = 400\n",
    "optimizer = torch.optim.Adam(model.parameters(), lr = eta)\n",
    "dataloader = DataLoader(mri_dataset, batch_size = 32, shuffle = True)\n",
    "model.train()"
   ]
  },
  {
   "cell_type": "code",
   "execution_count": 7,
   "metadata": {},
   "outputs": [
    {
     "name": "stderr",
     "output_type": "stream",
     "text": [
      "C:\\Users\\HP\\AppData\\Local\\Programs\\Python\\Python37\\lib\\site-packages\\torch\\nn\\functional.py:1960: UserWarning: nn.functional.sigmoid is deprecated. Use torch.sigmoid instead.\n",
      "  warnings.warn(\"nn.functional.sigmoid is deprecated. Use torch.sigmoid instead.\")\n"
     ]
    },
    {
     "name": "stdout",
     "output_type": "stream",
     "text": [
      "Train Epoch: 10\tLoss: 0.469851\n",
      "Train Epoch: 20\tLoss: 0.398658\n",
      "Train Epoch: 30\tLoss: 0.330910\n",
      "Train Epoch: 40\tLoss: 0.257666\n",
      "Train Epoch: 50\tLoss: 0.192685\n",
      "Train Epoch: 60\tLoss: 0.141161\n",
      "Train Epoch: 70\tLoss: 0.104692\n",
      "Train Epoch: 80\tLoss: 0.079181\n",
      "Train Epoch: 90\tLoss: 0.057977\n",
      "Train Epoch: 100\tLoss: 0.040215\n",
      "Train Epoch: 110\tLoss: 0.029882\n",
      "Train Epoch: 120\tLoss: 0.013175\n",
      "Train Epoch: 130\tLoss: 0.006361\n",
      "Train Epoch: 140\tLoss: 0.002493\n",
      "Train Epoch: 150\tLoss: 0.009782\n",
      "Train Epoch: 160\tLoss: 0.001115\n",
      "Train Epoch: 170\tLoss: 0.000657\n",
      "Train Epoch: 180\tLoss: 0.000423\n",
      "Train Epoch: 190\tLoss: 0.000261\n",
      "Train Epoch: 200\tLoss: 0.000159\n",
      "Train Epoch: 210\tLoss: 0.000115\n",
      "Train Epoch: 220\tLoss: 0.000053\n",
      "Train Epoch: 230\tLoss: 0.000030\n",
      "Train Epoch: 240\tLoss: 0.000019\n",
      "Train Epoch: 250\tLoss: 0.000010\n",
      "Train Epoch: 260\tLoss: 0.000006\n",
      "Train Epoch: 270\tLoss: 0.000004\n",
      "Train Epoch: 280\tLoss: 0.000002\n",
      "Train Epoch: 290\tLoss: 0.000001\n",
      "Train Epoch: 300\tLoss: 0.000001\n",
      "Train Epoch: 310\tLoss: 0.000000\n",
      "Train Epoch: 320\tLoss: 0.000000\n",
      "Train Epoch: 330\tLoss: 0.000000\n",
      "Train Epoch: 340\tLoss: 0.000000\n",
      "Train Epoch: 350\tLoss: 0.000000\n",
      "Train Epoch: 360\tLoss: 0.000000\n",
      "Train Epoch: 370\tLoss: 0.000000\n",
      "Train Epoch: 380\tLoss: 0.000000\n",
      "Train Epoch: 390\tLoss: 0.000000\n",
      "Train Epoch: 400\tLoss: 0.000015\n"
     ]
    }
   ],
   "source": [
    "for epoch in range(1,EPOCH):\n",
    "    losses = []\n",
    "    for D in dataloader:\n",
    "        optimizer.zero_grad()\n",
    "        data = D['image'].to(device)\n",
    "        label = D['label'].to(device)\n",
    "        y_hat = model(data)\n",
    "        #Define loss function\n",
    "        error = nn.BCELoss()\n",
    "        loss = torch.sum(error(y_hat.squeeze(), label))\n",
    "        loss.backward()\n",
    "        optimizer.step()\n",
    "        losses.append(loss.item())\n",
    "    \n",
    "    if (epoch+1) % 10==0:\n",
    "        print('Train Epoch: {}\\tLoss: {:.6f}'.format(epoch+1, np.mean(losses)))"
   ]
  },
  {
   "cell_type": "code",
   "execution_count": 8,
   "metadata": {},
   "outputs": [],
   "source": [
    "FILE = \"model.pth\"\n",
    "torch.save(model, FILE)"
   ]
  },
  {
   "cell_type": "code",
   "execution_count": 14,
   "metadata": {},
   "outputs": [],
   "source": [
    "model.eval()\n",
    "dataloader = DataLoader(mri_dataset, batch_size = 32, shuffle=False)\n",
    "outputs = []\n",
    "y_true = []\n",
    "with torch.no_grad():\n",
    "    for D in dataloader:\n",
    "        image = D['image'].to(device)\n",
    "        label = D['label'].to(device)\n",
    "        \n",
    "        y_hat = model(image)\n",
    "        \n",
    "        outputs.append(y_hat.cpu().detach().numpy())\n",
    "        y_true.append(label.cpu().detach().numpy())\n",
    "\n",
    "outputs = np.concatenate(outputs, axis= 0)\n",
    "y_true = np.concatenate(y_true, axis = 0)"
   ]
  },
  {
   "cell_type": "code",
   "execution_count": 15,
   "metadata": {},
   "outputs": [],
   "source": [
    "def threshold(scores, threshold=0.50, minimum=0, maximum=1.0):\n",
    "    x = np.array(list(scores))\n",
    "    x[x >= threshold] = maximum\n",
    "    x[x < threshold] = minimum \n",
    "    return x"
   ]
  },
  {
   "cell_type": "code",
   "execution_count": 16,
   "metadata": {},
   "outputs": [
    {
     "data": {
      "text/plain": [
       "1.0"
      ]
     },
     "execution_count": 16,
     "metadata": {},
     "output_type": "execute_result"
    }
   ],
   "source": [
    "accuracy_score(y_true, threshold(outputs))"
   ]
  },
  {
   "cell_type": "code",
   "execution_count": 26,
   "metadata": {},
   "outputs": [
    {
     "data": {
      "text/plain": [
       "[Text(0, 0.5, 'Tumor'), Text(0, 1.5, 'No_tumor')]"
      ]
     },
     "execution_count": 26,
     "metadata": {},
     "output_type": "execute_result"
    },
    {
     "data": {
      "image/png": "[encoded data removed]",
      "text/plain": [
       "<Figure size 1152x648 with 2 Axes>"
      ]
     },
     "metadata": {
      "needs_background": "light"
     },
     "output_type": "display_data"
    }
   ],
   "source": [
    "cm = confusion_matrix(y_true, threshold(outputs))\n",
    "plt.figure(figsize=(16,9))\n",
    "\n",
    "ax = plt.subplot()\n",
    "sns.heatmap(cm, annot=True, fmt='g' ,ax = ax);\n",
    "\n",
    "ax.set_xlabel('Prediction labels'); ax.set_ylabel('True labels')\n",
    "ax.set_title('Confusion Matrix');\n",
    "ax.xaxis.set_ticklabels(['Tumor', 'No_tumor'])\n",
    "ax.yaxis.set_ticklabels(['Tumor', 'No_tumor'])"
   ]
  },
  {
   "cell_type": "code",
   "execution_count": null,
   "metadata": {},
   "outputs": [],
   "source": []
  },
  {
   "cell_type": "code",
   "execution_count": null,
   "metadata": {},
   "outputs": [],
   "source": []
  },
  {
   "cell_type": "code",
   "execution_count": null,
   "metadata": {},
   "outputs": [],
   "source": []
  }
 ],
 "metadata": {
  "kernelspec": {
   "display_name": "Python 3 (ipykernel)",
   "language": "python",
   "name": "python3"
  },
  "language_info": {
   "codemirror_mode": {
    "name": "ipython",
    "version": 3
   },
   "file_extension": ".py",
   "mimetype": "text/x-python",
   "name": "python",
   "nbconvert_exporter": "python",
   "pygments_lexer": "ipython3",
   "version": "3.7.6"
  }
 },
 "nbformat": 4,
 "nbformat_minor": 2
}
